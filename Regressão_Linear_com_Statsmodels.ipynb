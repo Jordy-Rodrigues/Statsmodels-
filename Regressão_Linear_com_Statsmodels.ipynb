{
  "nbformat": 4,
  "nbformat_minor": 0,
  "metadata": {
    "colab": {
      "name": "Regressão Linear com Statsmodels",
      "provenance": [],
      "collapsed_sections": [],
      "mount_file_id": "1rCaljQB9oZZDiRJJZDiMiOa5fxLpD089",
      "authorship_tag": "ABX9TyORWRQNEKiLkegOrtpCkWiJ",
      "include_colab_link": true
    },
    "kernelspec": {
      "name": "python3",
      "display_name": "Python 3"
    },
    "language_info": {
      "name": "python"
    }
  },
  "cells": [
    {
      "cell_type": "markdown",
      "metadata": {
        "id": "view-in-github",
        "colab_type": "text"
      },
      "source": [
        "<a href=\"https://colab.research.google.com/github/Jordy-Rodrigues/Statsmodels-/blob/main/Regress%C3%A3o_Linear_com_Statsmodels.ipynb\" target=\"_parent\"><img src=\"https://colab.research.google.com/assets/colab-badge.svg\" alt=\"Open In Colab\"/></a>"
      ]
    },
    {
      "cell_type": "code",
      "execution_count": 222,
      "metadata": {
        "id": "FdHdG2A6qcC9"
      },
      "outputs": [],
      "source": [
        "# IMPORTAR AS BIBLIOTECAS NECESSÁRIAS\n",
        "import pandas as pd\n",
        "import numpy as np\n",
        "import matplotlib.pyplot as plt"
      ]
    },
    {
      "cell_type": "code",
      "source": [
        "# CARREGAR A BASE DE DADOS\n",
        "# BASE DE DADOS COM NÚMEROS ALEATÓRIOS APENAS PARA MODO DE APRENDIZADO\n",
        "dados = pd.read_excel('/content/drive/MyDrive/linear_statsmodels.xlsx')\n",
        "dados.head()"
      ],
      "metadata": {
        "colab": {
          "base_uri": "https://localhost:8080/",
          "height": 206
        },
        "id": "_FM5y7wWrBq5",
        "outputId": "2ffb9f6d-6810-4f95-e91c-2e558278370e"
      },
      "execution_count": 240,
      "outputs": [
        {
          "output_type": "execute_result",
          "data": {
            "text/plain": [
              "         x             y\n",
              "0  0.00000 -1.165614e+16\n",
              "1  0.10101 -8.074456e+15\n",
              "2  0.20202 -1.658825e+16\n",
              "3  0.30303 -4.275013e+15\n",
              "4  0.40404 -8.714275e+14"
            ],
            "text/html": [
              "\n",
              "  <div id=\"df-60ab55c6-89fd-4d3e-ae93-456626fa0a08\">\n",
              "    <div class=\"colab-df-container\">\n",
              "      <div>\n",
              "<style scoped>\n",
              "    .dataframe tbody tr th:only-of-type {\n",
              "        vertical-align: middle;\n",
              "    }\n",
              "\n",
              "    .dataframe tbody tr th {\n",
              "        vertical-align: top;\n",
              "    }\n",
              "\n",
              "    .dataframe thead th {\n",
              "        text-align: right;\n",
              "    }\n",
              "</style>\n",
              "<table border=\"1\" class=\"dataframe\">\n",
              "  <thead>\n",
              "    <tr style=\"text-align: right;\">\n",
              "      <th></th>\n",
              "      <th>x</th>\n",
              "      <th>y</th>\n",
              "    </tr>\n",
              "  </thead>\n",
              "  <tbody>\n",
              "    <tr>\n",
              "      <th>0</th>\n",
              "      <td>0.00000</td>\n",
              "      <td>-1.165614e+16</td>\n",
              "    </tr>\n",
              "    <tr>\n",
              "      <th>1</th>\n",
              "      <td>0.10101</td>\n",
              "      <td>-8.074456e+15</td>\n",
              "    </tr>\n",
              "    <tr>\n",
              "      <th>2</th>\n",
              "      <td>0.20202</td>\n",
              "      <td>-1.658825e+16</td>\n",
              "    </tr>\n",
              "    <tr>\n",
              "      <th>3</th>\n",
              "      <td>0.30303</td>\n",
              "      <td>-4.275013e+15</td>\n",
              "    </tr>\n",
              "    <tr>\n",
              "      <th>4</th>\n",
              "      <td>0.40404</td>\n",
              "      <td>-8.714275e+14</td>\n",
              "    </tr>\n",
              "  </tbody>\n",
              "</table>\n",
              "</div>\n",
              "      <button class=\"colab-df-convert\" onclick=\"convertToInteractive('df-60ab55c6-89fd-4d3e-ae93-456626fa0a08')\"\n",
              "              title=\"Convert this dataframe to an interactive table.\"\n",
              "              style=\"display:none;\">\n",
              "        \n",
              "  <svg xmlns=\"http://www.w3.org/2000/svg\" height=\"24px\"viewBox=\"0 0 24 24\"\n",
              "       width=\"24px\">\n",
              "    <path d=\"M0 0h24v24H0V0z\" fill=\"none\"/>\n",
              "    <path d=\"M18.56 5.44l.94 2.06.94-2.06 2.06-.94-2.06-.94-.94-2.06-.94 2.06-2.06.94zm-11 1L8.5 8.5l.94-2.06 2.06-.94-2.06-.94L8.5 2.5l-.94 2.06-2.06.94zm10 10l.94 2.06.94-2.06 2.06-.94-2.06-.94-.94-2.06-.94 2.06-2.06.94z\"/><path d=\"M17.41 7.96l-1.37-1.37c-.4-.4-.92-.59-1.43-.59-.52 0-1.04.2-1.43.59L10.3 9.45l-7.72 7.72c-.78.78-.78 2.05 0 2.83L4 21.41c.39.39.9.59 1.41.59.51 0 1.02-.2 1.41-.59l7.78-7.78 2.81-2.81c.8-.78.8-2.07 0-2.86zM5.41 20L4 18.59l7.72-7.72 1.47 1.35L5.41 20z\"/>\n",
              "  </svg>\n",
              "      </button>\n",
              "      \n",
              "  <style>\n",
              "    .colab-df-container {\n",
              "      display:flex;\n",
              "      flex-wrap:wrap;\n",
              "      gap: 12px;\n",
              "    }\n",
              "\n",
              "    .colab-df-convert {\n",
              "      background-color: #E8F0FE;\n",
              "      border: none;\n",
              "      border-radius: 50%;\n",
              "      cursor: pointer;\n",
              "      display: none;\n",
              "      fill: #1967D2;\n",
              "      height: 32px;\n",
              "      padding: 0 0 0 0;\n",
              "      width: 32px;\n",
              "    }\n",
              "\n",
              "    .colab-df-convert:hover {\n",
              "      background-color: #E2EBFA;\n",
              "      box-shadow: 0px 1px 2px rgba(60, 64, 67, 0.3), 0px 1px 3px 1px rgba(60, 64, 67, 0.15);\n",
              "      fill: #174EA6;\n",
              "    }\n",
              "\n",
              "    [theme=dark] .colab-df-convert {\n",
              "      background-color: #3B4455;\n",
              "      fill: #D2E3FC;\n",
              "    }\n",
              "\n",
              "    [theme=dark] .colab-df-convert:hover {\n",
              "      background-color: #434B5C;\n",
              "      box-shadow: 0px 1px 3px 1px rgba(0, 0, 0, 0.15);\n",
              "      filter: drop-shadow(0px 1px 2px rgba(0, 0, 0, 0.3));\n",
              "      fill: #FFFFFF;\n",
              "    }\n",
              "  </style>\n",
              "\n",
              "      <script>\n",
              "        const buttonEl =\n",
              "          document.querySelector('#df-60ab55c6-89fd-4d3e-ae93-456626fa0a08 button.colab-df-convert');\n",
              "        buttonEl.style.display =\n",
              "          google.colab.kernel.accessAllowed ? 'block' : 'none';\n",
              "\n",
              "        async function convertToInteractive(key) {\n",
              "          const element = document.querySelector('#df-60ab55c6-89fd-4d3e-ae93-456626fa0a08');\n",
              "          const dataTable =\n",
              "            await google.colab.kernel.invokeFunction('convertToInteractive',\n",
              "                                                     [key], {});\n",
              "          if (!dataTable) return;\n",
              "\n",
              "          const docLinkHtml = 'Like what you see? Visit the ' +\n",
              "            '<a target=\"_blank\" href=https://colab.research.google.com/notebooks/data_table.ipynb>data table notebook</a>'\n",
              "            + ' to learn more about interactive tables.';\n",
              "          element.innerHTML = '';\n",
              "          dataTable['output_type'] = 'display_data';\n",
              "          await google.colab.output.renderOutput(dataTable, element);\n",
              "          const docLink = document.createElement('div');\n",
              "          docLink.innerHTML = docLinkHtml;\n",
              "          element.appendChild(docLink);\n",
              "        }\n",
              "      </script>\n",
              "    </div>\n",
              "  </div>\n",
              "  "
            ]
          },
          "metadata": {},
          "execution_count": 240
        }
      ]
    },
    {
      "cell_type": "code",
      "source": [
        "# DEFINIR O X E Y\n",
        "x = dados ['x'].values\n",
        "y = dados ['y'].values"
      ],
      "metadata": {
        "id": "ml733cves_tg"
      },
      "execution_count": 224,
      "outputs": []
    },
    {
      "cell_type": "code",
      "source": [
        "# CRIAR GRÁFICO DE DISPERSÃO \n",
        "plt.scatter(x, y,label='y(x)');\n",
        "plt.xlabel('x');\n",
        "plt.ylabel('y');\n",
        "plt.legend();"
      ],
      "metadata": {
        "colab": {
          "base_uri": "https://localhost:8080/",
          "height": 290
        },
        "id": "IzsIebcGtWFk",
        "outputId": "4db02a49-9301-4f61-9d00-bdb990ea2662"
      },
      "execution_count": 225,
      "outputs": [
        {
          "output_type": "display_data",
          "data": {
            "text/plain": [
              "<Figure size 432x288 with 1 Axes>"
            ],
            "image/png": "[encoded data removed]"
          },
          "metadata": {
            "needs_background": "light"
          }
        }
      ]
    },
    {
      "cell_type": "code",
      "source": [
        "# IMPORTAR A BIBLIOTECA DE ESTATÍSTICA STATSMODELS PARA O MODELO DE REGRESSÃO LINEAR\n",
        "import statsmodels.api as sm"
      ],
      "metadata": {
        "id": "fQNRykln3fqT"
      },
      "execution_count": 226,
      "outputs": []
    },
    {
      "cell_type": "code",
      "source": [
        "# UTILIZAR O MODELO DOS MÍNINOS QUADRADOS ORDINÁRIOS\n",
        "# OBS: O Y VEM PRIMEIRO ENTRE PARENTESES\n",
        "modelo = sm.OLS (y,x)"
      ],
      "metadata": {
        "id": "EMlypwg_3sGk"
      },
      "execution_count": 227,
      "outputs": []
    },
    {
      "cell_type": "code",
      "source": [
        "# TREINAR O MODELO\n",
        "resultado = modelo.fit()"
      ],
      "metadata": {
        "id": "jbQfASFF4BY0"
      },
      "execution_count": 228,
      "outputs": []
    },
    {
      "cell_type": "code",
      "source": [
        "# MOSTRAR UM SUMÁRIO\n",
        "print(resultado.summary())"
      ],
      "metadata": {
        "colab": {
          "base_uri": "https://localhost:8080/"
        },
        "id": "7qFKshy14IBC",
        "outputId": "31c0668b-1e98-40c9-eccc-4046699b21d4"
      },
      "execution_count": 229,
      "outputs": [
        {
          "output_type": "stream",
          "name": "stdout",
          "text": [
            "                            OLS Regression Results                            \n",
            "==============================================================================\n",
            "Dep. Variable:                      y   R-squared:                      -0.049\n",
            "Model:                            OLS   Adj. R-squared:                 -0.049\n",
            "Method:                 Least Squares   F-statistic:                      -inf\n",
            "Date:                Tue, 26 Apr 2022   Prob (F-statistic):                nan\n",
            "Time:                        01:45:14   Log-Likelihood:                -3884.3\n",
            "No. Observations:                 100   AIC:                             7771.\n",
            "Df Residuals:                      99   BIC:                             7773.\n",
            "Df Model:                           0                                         \n",
            "Covariance Type:            nonrobust                                         \n",
            "==============================================================================\n",
            "                 coef    std err          t      P>|t|      [0.025      0.975]\n",
            "------------------------------------------------------------------------------\n",
            "x1             0.1581      0.087      1.814      0.073      -0.015       0.331\n",
            "==============================================================================\n",
            "Omnibus:                       12.047   Durbin-Watson:                   1.156\n",
            "Prob(Omnibus):                  0.002   Jarque-Bera (JB):               28.439\n",
            "Skew:                          -0.309   Prob(JB):                     6.68e-07\n",
            "Kurtosis:                       5.538   Cond. No.                         1.00\n",
            "==============================================================================\n",
            "\n",
            "Warnings:\n",
            "[1] Standard Errors assume that the covariance matrix of the errors is correctly specified.\n"
          ]
        },
        {
          "output_type": "stream",
          "name": "stderr",
          "text": [
            "/usr/local/lib/python3.7/dist-packages/statsmodels/regression/linear_model.py:1657: RuntimeWarning: divide by zero encountered in double_scalars\n",
            "  return self.ess/self.df_model\n"
          ]
        }
      ]
    },
    {
      "cell_type": "markdown",
      "source": [
        "CRIAR UM MODELO INTERCEPTO"
      ],
      "metadata": {
        "id": "blEq9Y4Ga3l8"
      }
    },
    {
      "cell_type": "code",
      "source": [
        "# CRIAR UMA CONSTANTE\n",
        "x = sm.add_constant(x)"
      ],
      "metadata": {
        "id": "ltVT-6Nb4cv2"
      },
      "execution_count": 230,
      "outputs": []
    },
    {
      "cell_type": "code",
      "source": [
        "# UTILIZAR NOVAMENTE O MODELO DOS MÍNINOS QUADRADOS ORDINÁRIOS\n",
        "modelo2 = sm.OLS(y,x)"
      ],
      "metadata": {
        "id": "ERhdqU5R4ja2"
      },
      "execution_count": 231,
      "outputs": []
    },
    {
      "cell_type": "code",
      "source": [
        "# TREINAR O MODELO\n",
        "resultado2 = modelo2.fit()"
      ],
      "metadata": {
        "id": "U4ZXikYt4qTt"
      },
      "execution_count": 232,
      "outputs": []
    },
    {
      "cell_type": "code",
      "source": [
        "# MOSTRAR UM SUMÁRIO \n",
        "print(resultado2.summary())"
      ],
      "metadata": {
        "colab": {
          "base_uri": "https://localhost:8080/"
        },
        "id": "dYjHOizs4uyN",
        "outputId": "5eac5814-4440-4738-80ed-e9ff5d43d531"
      },
      "execution_count": 233,
      "outputs": [
        {
          "output_type": "stream",
          "name": "stdout",
          "text": [
            "                            OLS Regression Results                            \n",
            "==============================================================================\n",
            "Dep. Variable:                      y   R-squared:                      -0.049\n",
            "Model:                            OLS   Adj. R-squared:                 -0.049\n",
            "Method:                 Least Squares   F-statistic:                      -inf\n",
            "Date:                Tue, 26 Apr 2022   Prob (F-statistic):                nan\n",
            "Time:                        01:45:14   Log-Likelihood:                -3884.3\n",
            "No. Observations:                 100   AIC:                             7771.\n",
            "Df Residuals:                      99   BIC:                             7773.\n",
            "Df Model:                           0                                         \n",
            "Covariance Type:            nonrobust                                         \n",
            "==============================================================================\n",
            "                 coef    std err          t      P>|t|      [0.025      0.975]\n",
            "------------------------------------------------------------------------------\n",
            "const       4.718e-18    2.6e-18      1.814      0.073   -4.44e-19    9.88e-18\n",
            "x1             0.1581      0.087      1.814      0.073      -0.015       0.331\n",
            "==============================================================================\n",
            "Omnibus:                       12.047   Durbin-Watson:                   1.156\n",
            "Prob(Omnibus):                  0.002   Jarque-Bera (JB):               28.439\n",
            "Skew:                          -0.309   Prob(JB):                     6.68e-07\n",
            "Kurtosis:                       5.538   Cond. No.                     2.62e+16\n",
            "==============================================================================\n",
            "\n",
            "Warnings:\n",
            "[1] Standard Errors assume that the covariance matrix of the errors is correctly specified.\n",
            "[2] The condition number is large, 2.62e+16. This might indicate that there are\n",
            "strong multicollinearity or other numerical problems.\n"
          ]
        },
        {
          "output_type": "stream",
          "name": "stderr",
          "text": [
            "/usr/local/lib/python3.7/dist-packages/statsmodels/regression/linear_model.py:1657: RuntimeWarning: divide by zero encountered in double_scalars\n",
            "  return self.ess/self.df_model\n"
          ]
        }
      ]
    },
    {
      "cell_type": "code",
      "source": [
        "# SALVAR O COEFICIÊNTE LINEAR E ANGULAR DENTRO DE UMA VARIÁVEL\n",
        "coef_linear, coef_angular = resultado2.params"
      ],
      "metadata": {
        "id": "-yTukOyM5AeO"
      },
      "execution_count": 234,
      "outputs": []
    },
    {
      "cell_type": "code",
      "source": [
        "# CALCULAR A RETA\n",
        "reta = coef_angular * x + coef_linear"
      ],
      "metadata": {
        "id": "8qVhKliq5yVO"
      },
      "execution_count": 235,
      "outputs": []
    },
    {
      "cell_type": "code",
      "source": [
        "# DEFINIR QUE VOU PEGAR OS DADOS DA SEGUNDA COLUNA\n",
        "x = x[:,1]\n",
        "reta = reta[:,1]"
      ],
      "metadata": {
        "id": "kn-FNZsw6VmG"
      },
      "execution_count": 236,
      "outputs": []
    },
    {
      "cell_type": "code",
      "source": [
        "# MOSTRAR O RESULTADO NO GRÁFICO\n",
        "plt.scatter(x, y,label='y (x)');\n",
        "plt.plot(x, reta, label ='Ajuste Linear',color='red');\n",
        "plt.xlabel('x');\n",
        "plt.ylabel('y');\n",
        "plt.legend();"
      ],
      "metadata": {
        "colab": {
          "base_uri": "https://localhost:8080/",
          "height": 290
        },
        "id": "bIOEko1b6nyt",
        "outputId": "a3d90c9a-6217-4291-e755-473cee033964"
      },
      "execution_count": 237,
      "outputs": [
        {
          "output_type": "display_data",
          "data": {
            "text/plain": [
              "<Figure size 432x288 with 1 Axes>"
            ],
            "image/png": "[encoded data removed]"
          },
          "metadata": {
            "needs_background": "light"
          }
        }
      ]
    },
    {
      "cell_type": "code",
      "source": [
        "# IMPORTAR O MODELO DE MACHINE LEARNING DE MÉTRICAS\n",
        "from sklearn.metrics import mean_absolute_error, mean_squared_error"
      ],
      "metadata": {
        "id": "Tl0pdVNT7XCh"
      },
      "execution_count": 238,
      "outputs": []
    },
    {
      "cell_type": "code",
      "source": [
        "# VER AS MÉTRICAS\n",
        "variavel1 = mean_absolute_error(y,reta)\n",
        "variavel2 = np.sqrt(mean_squared_error(y,reta))\n",
        "\n",
        "print('variavel1 = {:0.2f}'.format(variavel1))\n",
        "print('variavel2 = {:0.2f}'.format(variavel2))"
      ],
      "metadata": {
        "colab": {
          "base_uri": "https://localhost:8080/"
        },
        "id": "J29U56Jf8oTl",
        "outputId": "d5a45143-9da7-42c9-8f68-dc10554c9f44"
      },
      "execution_count": 239,
      "outputs": [
        {
          "output_type": "stream",
          "name": "stdout",
          "text": [
            "variavel1 = 12803732647665246.00\n",
            "variavel2 = 17910229485790656.00\n"
          ]
        }
      ]
    }
  ]
}